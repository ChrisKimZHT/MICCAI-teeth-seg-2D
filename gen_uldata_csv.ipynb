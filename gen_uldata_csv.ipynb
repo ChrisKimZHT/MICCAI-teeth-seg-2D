{
 "cells": [
  {
   "cell_type": "code",
   "execution_count": 1,
   "metadata": {},
   "outputs": [],
   "source": [
    "import os\n",
    "import csv\n",
    "import pandas as pd"
   ]
  },
  {
   "cell_type": "code",
   "execution_count": 2,
   "metadata": {},
   "outputs": [
    {
     "data": {
      "text/html": [
       "<div>\n",
       "<style scoped>\n",
       "    .dataframe tbody tr th:only-of-type {\n",
       "        vertical-align: middle;\n",
       "    }\n",
       "\n",
       "    .dataframe tbody tr th {\n",
       "        vertical-align: top;\n",
       "    }\n",
       "\n",
       "    .dataframe thead th {\n",
       "        text-align: right;\n",
       "    }\n",
       "</style>\n",
       "<table border=\"1\" class=\"dataframe\">\n",
       "  <thead>\n",
       "    <tr style=\"text-align: right;\">\n",
       "      <th></th>\n",
       "      <th>path</th>\n",
       "      <th>uncertainty</th>\n",
       "    </tr>\n",
       "  </thead>\n",
       "  <tbody>\n",
       "    <tr>\n",
       "      <th>0</th>\n",
       "      <td>./data/unlabelled/fakelabel/train_ul_534.png</td>\n",
       "      <td>0.025079</td>\n",
       "    </tr>\n",
       "    <tr>\n",
       "      <th>1</th>\n",
       "      <td>./data/unlabelled/fakelabel/train_ul_429.png</td>\n",
       "      <td>0.028682</td>\n",
       "    </tr>\n",
       "    <tr>\n",
       "      <th>2</th>\n",
       "      <td>./data/unlabelled/fakelabel/train_ul_106.png</td>\n",
       "      <td>0.028682</td>\n",
       "    </tr>\n",
       "    <tr>\n",
       "      <th>3</th>\n",
       "      <td>./data/unlabelled/fakelabel/train_ul_1166.png</td>\n",
       "      <td>0.029110</td>\n",
       "    </tr>\n",
       "    <tr>\n",
       "      <th>4</th>\n",
       "      <td>./data/unlabelled/fakelabel/train_ul_1727.png</td>\n",
       "      <td>0.029120</td>\n",
       "    </tr>\n",
       "  </tbody>\n",
       "</table>\n",
       "</div>"
      ],
      "text/plain": [
       "                                            path  uncertainty\n",
       "0   ./data/unlabelled/fakelabel/train_ul_534.png     0.025079\n",
       "1   ./data/unlabelled/fakelabel/train_ul_429.png     0.028682\n",
       "2   ./data/unlabelled/fakelabel/train_ul_106.png     0.028682\n",
       "3  ./data/unlabelled/fakelabel/train_ul_1166.png     0.029110\n",
       "4  ./data/unlabelled/fakelabel/train_ul_1727.png     0.029120"
      ]
     },
     "execution_count": 2,
     "metadata": {},
     "output_type": "execute_result"
    }
   ],
   "source": [
    "uncertainty = pd.read_csv(\"uncertainty.csv\")\n",
    "\n",
    "uncertainty.head()"
   ]
  },
  {
   "cell_type": "code",
   "execution_count": 3,
   "metadata": {},
   "outputs": [],
   "source": [
    "select_cnt = 1000\n",
    "assert select_cnt <= len(uncertainty)\n",
    "\n",
    "df = pd.DataFrame(columns=[\"#\", \"image\", \"label\"])\n",
    "\n",
    "for i in range(select_cnt):\n",
    "    path = uncertainty.iloc[i][\"path\"]\n",
    "    val = uncertainty.iloc[i][\"uncertainty\"]\n",
    "\n",
    "    name = os.path.basename(path)\n",
    "\n",
    "    image_path = os.path.join(\"./data/unlabelled/image/\", name)\n",
    "    label_path = os.path.join(\"./data/unlabelled/fakelabel/\", name)\n",
    "\n",
    "    df.loc[i] = [i, image_path, label_path]\n",
    "\n",
    "df.to_csv(\"data_extra.csv\", index=False)"
   ]
  }
 ],
 "metadata": {
  "kernelspec": {
   "display_name": "miccai2d",
   "language": "python",
   "name": "python3"
  },
  "language_info": {
   "codemirror_mode": {
    "name": "ipython",
    "version": 3
   },
   "file_extension": ".py",
   "mimetype": "text/x-python",
   "name": "python",
   "nbconvert_exporter": "python",
   "pygments_lexer": "ipython3",
   "version": "3.7.16"
  }
 },
 "nbformat": 4,
 "nbformat_minor": 2
}
