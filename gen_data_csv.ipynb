{
 "cells": [
  {
   "cell_type": "code",
   "execution_count": 1,
   "metadata": {},
   "outputs": [],
   "source": [
    "import os\n",
    "import csv"
   ]
  },
  {
   "cell_type": "code",
   "execution_count": 2,
   "metadata": {},
   "outputs": [
    {
     "name": "stdout",
     "output_type": "stream",
     "text": [
      "2900 data written to data.csv\n"
     ]
    }
   ],
   "source": [
    "labelled_image_dir = \"./data/labelled/image/\"\n",
    "labelled_label_dir = \"./data/labelled/label/\"\n",
    "\n",
    "labelled_data_list = os.listdir(labelled_image_dir)\n",
    "\n",
    "with open(\"data.csv\", \"w\", newline=\"\") as csvfile:\n",
    "    writer = csv.writer(csvfile)\n",
    "    writer.writerow([\"#\", \"image\", \"mask\"])\n",
    "    for i in range(len(labelled_data_list)):\n",
    "        writer.writerow([i, os.path.join(labelled_image_dir, labelled_data_list[i]), os.path.join(labelled_label_dir, labelled_data_list[i])])\n",
    "\n",
    "print(f\"{len(labelled_data_list)} data written to data.csv\")"
   ]
  },
  {
   "cell_type": "code",
   "execution_count": 3,
   "metadata": {},
   "outputs": [
    {
     "name": "stdout",
     "output_type": "stream",
     "text": [
      "1000 data written to infer.csv\n"
     ]
    }
   ],
   "source": [
    "infer_image_dir = \"./infer/image/\"\n",
    "result_dir = \"./infer/label/\"\n",
    "\n",
    "infer_data_list = os.listdir(infer_image_dir)\n",
    "\n",
    "with open(\"infer.csv\", \"w\", newline=\"\") as csvfile:\n",
    "    writer = csv.writer(csvfile)\n",
    "    writer.writerow([\"#\", \"image\", \"mask\"])\n",
    "    for i in range(len(infer_data_list)):\n",
    "        writer.writerow([i, os.path.join(infer_image_dir, infer_data_list[i]), os.path.join(result_dir, infer_data_list[i])])\n",
    "\n",
    "print(f\"{len(infer_data_list)} data written to infer.csv\")"
   ]
  },
  {
   "cell_type": "code",
   "execution_count": 4,
   "metadata": {},
   "outputs": [
    {
     "name": "stdout",
     "output_type": "stream",
     "text": [
      "2100 data written to unlabelled.csv\n"
     ]
    }
   ],
   "source": [
    "unlabelled_image_dir = \"./data/unlabelled/image/\"\n",
    "unlabelled_fakelabel_dir = \"./data/unlabelled/fakelabel/\"\n",
    "\n",
    "unlabelled_data_list = os.listdir(unlabelled_image_dir)\n",
    "\n",
    "with open(\"unlabelled.csv\", \"w\", newline=\"\") as csvfile:\n",
    "    writer = csv.writer(csvfile)\n",
    "    writer.writerow([\"#\", \"image\", \"mask\"])\n",
    "    for i in range(len(unlabelled_data_list)):\n",
    "        writer.writerow([i, os.path.join(unlabelled_image_dir, unlabelled_data_list[i]), os.path.join(unlabelled_fakelabel_dir, unlabelled_data_list[i])])\n",
    "\n",
    "print(f\"{len(unlabelled_data_list)} data written to unlabelled.csv\")"
   ]
  }
 ],
 "metadata": {
  "kernelspec": {
   "display_name": "miccai2d",
   "language": "python",
   "name": "python3"
  },
  "language_info": {
   "codemirror_mode": {
    "name": "ipython",
    "version": 3
   },
   "file_extension": ".py",
   "mimetype": "text/x-python",
   "name": "python",
   "nbconvert_exporter": "python",
   "pygments_lexer": "ipython3",
   "version": "3.7.16"
  }
 },
 "nbformat": 4,
 "nbformat_minor": 2
}
